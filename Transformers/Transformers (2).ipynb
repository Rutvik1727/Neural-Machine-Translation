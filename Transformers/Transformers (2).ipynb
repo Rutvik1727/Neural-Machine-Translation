{
  "cells": [
    {
      "cell_type": "code",
      "execution_count": null,
      "metadata": {
        "id": "EUJgTrg5aI_q"
      },
      "outputs": [],
      "source": [
        "import math\n",
        "import torch\n",
        "import random\n",
        "import tarfile\n",
        "import torchtext\n",
        "import torch.nn as nn\n",
        "import matplotlib.pyplot as plt\n",
        "from collections import Counter\n",
        "import torch.nn.functional as F\n",
        "from torch.utils.data import Dataset , DataLoader"
      ]
    },
    {
      "cell_type": "code",
      "execution_count": null,
      "metadata": {
        "id": "I2ZwP9RDhWbn"
      },
      "outputs": [],
      "source": [
        "import warnings\n",
        "warnings.filterwarnings(\"ignore\", category=UserWarning)\n",
        "warnings.filterwarnings(\"ignore\", category=DeprecationWarning)"
      ]
    },
    {
      "cell_type": "code",
      "execution_count": null,
      "metadata": {
        "colab": {
          "base_uri": "https://localhost:8080/"
        },
        "id": "uO0Cr2CYaN4h",
        "outputId": "af4c7b23-74f2-4ad5-989f-e00b9f509234"
      },
      "outputs": [
        {
          "name": "stdout",
          "output_type": "stream",
          "text": [
            "Using cuda:0 device\n"
          ]
        }
      ],
      "source": [
        "if torch.cuda.is_available():\n",
        "  dev = \"cuda:0\"\n",
        "else:\n",
        "  dev = \"cpu\"\n",
        "device = torch.device(dev)\n",
        "print(f\"Using {device} device\")"
      ]
    },
    {
      "cell_type": "code",
      "execution_count": null,
      "metadata": {
        "id": "6B8AZPKAaQRp"
      },
      "outputs": [],
      "source": [
        "SEED = 4444\n",
        "torch.manual_seed(SEED)\n",
        "torch.cuda.manual_seed(SEED)\n",
        "torch.backends.cudnn.deterministic = True"
      ]
    },
    {
      "cell_type": "code",
      "execution_count": null,
      "metadata": {
        "colab": {
          "base_uri": "https://localhost:8080/"
        },
        "id": "3wgtUUi1aSpA",
        "outputId": "6237dcb6-f1c2-4878-d0ca-27b4fbd55ec9"
      },
      "outputs": [
        {
          "name": "stdout",
          "output_type": "stream",
          "text": [
            "Opened tarfile\n",
            "All files extracted\n"
          ]
        }
      ],
      "source": [
        "with tarfile.open(\"/content/drive/MyDrive/MT/training.tar.gz\", \"r\") as tf:\n",
        "  print(\"Opened tarfile\")\n",
        "  tf.extractall(path=\"/content\")\n",
        "  print(\"All files extracted\")"
      ]
    },
    {
      "cell_type": "code",
      "execution_count": null,
      "metadata": {
        "colab": {
          "base_uri": "https://localhost:8080/"
        },
        "collapsed": true,
        "id": "q7qS2jSGewge",
        "outputId": "8bafd256-7b6c-4d34-e2e8-bae563fac651"
      },
      "outputs": [],
      "source": [
        "!python -m spacy download en_core_web_sm\n",
        "!python -m spacy download de_core_news_sm"
      ]
    },
    {
      "cell_type": "code",
      "execution_count": null,
      "metadata": {
        "id": "z-eiVn8OaU6Y"
      },
      "outputs": [],
      "source": [
        "en_tok_model = torchtext.data.utils.get_tokenizer('spacy', language='en_core_web_sm')\n",
        "de_tok_model = torchtext.data.utils.get_tokenizer('spacy', language='de_core_news_sm')"
      ]
    },
    {
      "cell_type": "code",
      "execution_count": null,
      "metadata": {
        "id": "vWo93QnfaYIx"
      },
      "outputs": [],
      "source": [
        "def de_tokenizer(sentence):\n",
        "  return de_tok_model(sentence)\n",
        "\n",
        "def en_tokenizer(sentence):\n",
        "  return en_tok_model(sentence)"
      ]
    },
    {
      "cell_type": "code",
      "execution_count": null,
      "metadata": {
        "id": "CvNL5o2Jaa-T"
      },
      "outputs": [],
      "source": [
        "class Data():\n",
        "  def __init__(self, en_filename, de_filename):\n",
        "    self.en_file = open(en_filename, mode='rt', encoding='utf-8')\n",
        "    self.en_text = self.en_file.read()\n",
        "    self.en_file.close()\n",
        "    self.de_file = open(de_filename, mode='rt', encoding='utf-8')\n",
        "    self.de_text = self.de_file.read()\n",
        "    self.de_file.close()\n",
        "    self.en_text = self.en_text.strip().split('\\n')\n",
        "    self.de_text = self.de_text.strip().split('\\n')\n",
        "  def data(self):\n",
        "    return self.en_text, self.de_text"
      ]
    },
    {
      "cell_type": "code",
      "execution_count": null,
      "metadata": {
        "id": "Rjumj1NAahNc"
      },
      "outputs": [],
      "source": [
        "class Vocab():\n",
        "  def __init__(self, en_filename, de_filename):\n",
        "    self.en_len = 0\n",
        "    self.de_len = 0\n",
        "    self.en_count = Counter()\n",
        "    self.de_count = Counter()\n",
        "    self.en_data, self.de_data = Data(en_filename, de_filename).data()\n",
        "    for idx in range(len(self.en_data)):\n",
        "      self.en_sent = self.en_data[idx]\n",
        "      self.de_sent = self.de_data[idx]\n",
        "      self.en_sent = ['<SOS>'] + en_tokenizer(self.en_sent.lower().strip()) + ['<EOS>']\n",
        "      self.de_sent = ['<SOS>'] + de_tokenizer(self.de_sent.lower().strip()) + ['<EOS>']\n",
        "      if(len(self.en_sent) > self.en_len):\n",
        "        self.en_len = len(self.en_sent)\n",
        "      if(len(self.de_sent) > self.de_len):\n",
        "        self.de_len = len(self.de_sent)\n",
        "      self.en_count.update(self.en_sent)\n",
        "      self.de_count.update(self.de_sent)\n",
        "    self.en_vocab = set()\n",
        "    for k,c in self.en_count.items():\n",
        "      if len(self.en_vocab)<8190 :\n",
        "        self.en_vocab.add(k)\n",
        "    self.en_vocab.add('<PAD>')\n",
        "    self.de_vocab = set()\n",
        "    for k,c in self.de_count.items():\n",
        "      if len(self.de_vocab)<8190 :\n",
        "        self.de_vocab.add(k)\n",
        "    self.de_vocab.add('<PAD>')\n",
        "  def vocab(self):\n",
        "    return self.en_vocab, self.de_vocab, self.en_len, self.de_len"
      ]
    },
    {
      "cell_type": "code",
      "execution_count": null,
      "metadata": {
        "id": "_8zefRIsakXA"
      },
      "outputs": [],
      "source": [
        "class multi30K(Dataset):\n",
        "  def __init__(self, en_filename, de_filename):\n",
        "    self.en_data, self.de_data = Data(en_filename, de_filename).data()\n",
        "    self.en_vocab, self.de_vocab, self.en_len, self.de_len = Vocab(en_filename, de_filename).vocab()\n",
        "    self.en_word2idx = {w: idx for (idx, w) in enumerate(self.en_vocab)}\n",
        "    self.en_word2idx.update({'<UNK>' : len(self.en_word2idx)})\n",
        "    self.en_idx2word = {idx: w for (idx, w) in enumerate(self.en_vocab)}\n",
        "    self.en_idx2word.update({len(self.en_idx2word) : '<UNK>'})\n",
        "    self.de_word2idx = {w: idx for (idx, w) in enumerate(self.de_vocab)}\n",
        "    self.de_word2idx.update({'<UNK>' : len(self.de_word2idx)})\n",
        "    self.de_idx2word = {idx: w for (idx, w) in enumerate(self.de_vocab)}\n",
        "    self.de_idx2word.update({len(self.de_idx2word) : '<UNK>'})\n",
        "\n",
        "  def __len__(self):\n",
        "    return len(self.en_data)\n",
        "\n",
        "  def __getitem__(self, index):\n",
        "    en_sent = self.en_data[index]\n",
        "    de_sent = self.de_data[index]\n",
        "    en_sent = ['<SOS>'] + en_tokenizer(en_sent.lower().strip()) + ['<EOS>']\n",
        "    de_sent = ['<SOS>'] + de_tokenizer(de_sent.lower().strip()) + ['<EOS>']\n",
        "    for i in range(len(en_sent)):\n",
        "      if en_sent[i] in self.en_vocab:\n",
        "        en_sent[i] = self.en_word2idx[en_sent[i]]\n",
        "      else:\n",
        "        en_sent[i] = self.en_word2idx['<UNK>']\n",
        "    for i in range(len(de_sent)):\n",
        "      if de_sent[i] in self.de_vocab:\n",
        "        de_sent[i] = self.de_word2idx[de_sent[i]]\n",
        "      else:\n",
        "        de_sent[i] = self.de_word2idx['<UNK>']\n",
        "    for i in range(len(en_sent), self.en_len):\n",
        "      en_sent.append(self.en_word2idx['<PAD>'])\n",
        "    for i in range(len(de_sent), self.de_len):\n",
        "      de_sent.append(self.de_word2idx['<PAD>'])\n",
        "    en_sent = torch.tensor(en_sent)\n",
        "    de_sent = torch.tensor(de_sent)\n",
        "    return en_sent, de_sent"
      ]
    },
    {
      "cell_type": "code",
      "execution_count": null,
      "metadata": {
        "id": "iysJ6M8vanS9"
      },
      "outputs": [],
      "source": [
        "class PositionalEncoding(nn.Module):\n",
        "  def __init__(self, dim_model, dropout_p, max_len):\n",
        "    super().__init__()\n",
        "    self.dropout = nn.Dropout(dropout_p)\n",
        "\n",
        "    pos_encoding = torch.zeros(max_len, dim_model)\n",
        "    positions_list = torch.arange(0, max_len, dtype=torch.float).view(-1, 1)\n",
        "    division_term = torch.exp(torch.arange(0, dim_model, 2).float() * (-math.log(100.0)) / dim_model)\n",
        "\n",
        "    pos_encoding[:, 0::2] = torch.sin(positions_list * division_term)\n",
        "\n",
        "    pos_encoding[:, 1::2] = torch.cos(positions_list * division_term)\n",
        "\n",
        "    pos_encoding = pos_encoding.unsqueeze(0).transpose(0, 1)\n",
        "    self.register_buffer(\"pos_encoding\",pos_encoding)\n",
        "\n",
        "  def forward(self, token_embedding: torch.tensor) -> torch.tensor:\n",
        "    return self.dropout(token_embedding + self.pos_encoding[:token_embedding.size(0), :])"
      ]
    },
    {
      "cell_type": "code",
      "execution_count": null,
      "metadata": {
        "id": "ewdJ_4g8axw4"
      },
      "outputs": [],
      "source": [
        "class Model(nn.Module):\n",
        "  def __init__(self, embedding_dim, en_vocab_size, de_vocab_size):\n",
        "    super(Model, self).__init__()\n",
        "    self.en_embedding = nn.Embedding(en_vocab_size, embedding_dim)\n",
        "    self.de_embedding = nn.Embedding(de_vocab_size, embedding_dim)\n",
        "    self.positional_encoder = PositionalEncoding(dim_model = embedding_dim, dropout_p = 0.1, max_len = 500)\n",
        "    self.transformer = nn.Transformer(d_model = embedding_dim, num_encoder_layers = 2, num_decoder_layers = 2, batch_first = False)\n",
        "    self.L1 = nn.Linear(embedding_dim, de_vocab_size)\n",
        "\n",
        "  def forward(self, en_sent, de_sent):\n",
        "    en_embed = self.en_embedding(en_sent)\n",
        "    de_embed = self.de_embedding(de_sent)\n",
        "    en_embed = en_embed.permute(1,0,2)\n",
        "    de_embed = de_embed.permute(1,0,2)\n",
        "    src = self.positional_encoder(en_embed)\n",
        "    tgt = self.positional_encoder(de_embed)\n",
        "\n",
        "    transformer_out = self.transformer(src,tgt,\n",
        "                      src_mask = torch.zeros((en_sent.size(1), en_sent.size(1)), device=device).type(torch.bool),\n",
        "                      tgt_mask = nn.Transformer.generate_square_subsequent_mask(de_sent.size(1), device=device),\n",
        "                      src_key_padding_mask = (en_sent == dataset.en_word2idx[\"<PAD>\"]),\n",
        "                      tgt_key_padding_mask = (de_sent == dataset.de_word2idx[\"<PAD>\"]),\n",
        "                      memory_key_padding_mask = (en_sent == dataset.en_word2idx[\"<PAD>\"]))\n",
        "\n",
        "    out = self.L1(transformer_out)\n",
        "    return F.log_softmax(out, dim=-1)"
      ]
    },
    {
      "cell_type": "code",
      "execution_count": null,
      "metadata": {
        "id": "OB-3bF3x8eG9"
      },
      "outputs": [],
      "source": [
        "def train_loop(model, opt, loss_fn, dataloader):\n",
        "    model.train()\n",
        "    total_loss = 0\n",
        "\n",
        "    for batch in dataloader:\n",
        "        X, y = batch[0], batch[1]\n",
        "        X, y = torch.tensor(X).to(device), torch.tensor(y).to(device)\n",
        "\n",
        "        # Now we shift the tgt by one so with the <SOS> we predict the token at pos 1\n",
        "        y_input = y[:,:-1]\n",
        "        y_expected = y[:,1:]\n",
        "\n",
        "        pred = model(X, y_input)\n",
        "\n",
        "        # Permute pred to have batch size first again\n",
        "        pred = pred.permute(1, 2, 0)\n",
        "        loss = loss_fn(pred, y_expected)\n",
        "\n",
        "        opt.zero_grad()\n",
        "        loss.backward()\n",
        "        opt.step()\n",
        "\n",
        "        total_loss += loss.detach().item()\n",
        "    epoch_loss = total_loss / len(dataloader)\n",
        "    epoch_perplexity = math.exp(epoch_loss)\n",
        "\n",
        "    return epoch_loss, epoch_perplexity"
      ]
    },
    {
      "cell_type": "code",
      "execution_count": null,
      "metadata": {
        "id": "0Ymtpkii9LjF"
      },
      "outputs": [],
      "source": [
        "def fit(model, opt, loss_fn, train_dataloader, epochs):\n",
        "    train_loss_list = []\n",
        "    train_perplexity_list = []\n",
        "\n",
        "    print(\"Training Transformer Model\")\n",
        "    for epoch in range(epochs):\n",
        "        print(\"-\"*25, f\"Epoch {epoch + 1}\",\"-\"*25)\n",
        "\n",
        "        train_loss, train_perplexity = train_loop(model, opt, loss_fn, train_dataloader)\n",
        "        train_loss_list += [train_loss]\n",
        "        train_perplexity_list  += [train_perplexity]\n",
        "\n",
        "    print(f\"Training loss: {train_loss:.4f}\")\n",
        "    print(f\"Training perplexity: {train_perplexity:.4f}\")\n",
        "    return train_loss_list, train_perplexity_list"
      ]
    },
    {
      "cell_type": "code",
      "execution_count": null,
      "metadata": {
        "id": "7COC0VccbJI-"
      },
      "outputs": [],
      "source": [
        "params = {'batch_size': 64,\n",
        "          'shuffle': True,\n",
        "          'num_workers': 2}"
      ]
    },
    {
      "cell_type": "code",
      "execution_count": null,
      "metadata": {
        "id": "tj-TfXnjbLV5"
      },
      "outputs": [],
      "source": [
        "dataset = multi30K('/content/train.en', '/content/train.de')\n",
        "data = DataLoader(dataset, **params)"
      ]
    },
    {
      "cell_type": "code",
      "execution_count": null,
      "metadata": {
        "id": "VNKB31idbN8z"
      },
      "outputs": [],
      "source": [
        "embedding_dim = 400\n",
        "en_vocab_size = len(dataset.en_vocab)\n",
        "de_vocab_size = len(dataset.de_vocab)"
      ]
    },
    {
      "cell_type": "code",
      "execution_count": null,
      "metadata": {
        "colab": {
          "base_uri": "https://localhost:8080/"
        },
        "id": "6Uo84lXrfnln",
        "outputId": "6e2c7770-4854-40a4-a2f1-cfc7a5497127"
      },
      "outputs": [
        {
          "name": "stdout",
          "output_type": "stream",
          "text": [
            "German Vocab Size :  8191\n",
            "English Vocab Size :  8191\n"
          ]
        }
      ],
      "source": [
        "print(\"German Vocab Size : \", de_vocab_size)\n",
        "print(\"English Vocab Size : \", en_vocab_size)"
      ]
    },
    {
      "cell_type": "code",
      "execution_count": null,
      "metadata": {
        "id": "-4fP8ydlbQMu"
      },
      "outputs": [],
      "source": [
        "model = Model(embedding_dim, en_vocab_size+1, de_vocab_size+1)\n",
        "model = model.to(device)\n",
        "criterion = nn.CrossEntropyLoss(ignore_index=dataset.de_word2idx[\"<PAD>\"])\n",
        "optimizer = torch.optim.Adam(model.parameters())"
      ]
    },
    {
      "cell_type": "code",
      "execution_count": null,
      "metadata": {
        "colab": {
          "base_uri": "https://localhost:8080/"
        },
        "id": "zOAJjHCq9hQW",
        "outputId": "26b8b44c-818c-4f45-9514-391276e09003"
      },
      "outputs": [
        {
          "name": "stdout",
          "output_type": "stream",
          "text": [
            "Training Transformer Model\n",
            "------------------------- Epoch 1 -------------------------\n",
            "------------------------- Epoch 2 -------------------------\n",
            "------------------------- Epoch 3 -------------------------\n",
            "------------------------- Epoch 4 -------------------------\n",
            "------------------------- Epoch 5 -------------------------\n",
            "------------------------- Epoch 6 -------------------------\n",
            "------------------------- Epoch 7 -------------------------\n",
            "------------------------- Epoch 8 -------------------------\n",
            "------------------------- Epoch 9 -------------------------\n",
            "------------------------- Epoch 10 -------------------------\n",
            "Training loss: 1.2058\n",
            "Training perplexity: 3.3393\n"
          ]
        }
      ],
      "source": [
        "loss_func, perplexity = fit(model, optimizer, criterion, data, 10)"
      ]
    },
    {
      "cell_type": "code",
      "execution_count": null,
      "metadata": {
        "colab": {
          "base_uri": "https://localhost:8080/",
          "height": 452
        },
        "id": "2DjklCBu8NTv",
        "outputId": "68fc8e17-4dd3-4552-f696-68b5c8504fb8"
      },
      "outputs": [
        {
          "data": {
            "image/png": "[encoded data removed]",
            "text/plain": [
              "<Figure size 640x480 with 1 Axes>"
            ]
          },
          "metadata": {},
          "output_type": "display_data"
        }
      ],
      "source": [
        "plt.plot(loss_func, 'o:r')\n",
        "plt.title(\"Loss\")\n",
        "plt.show()"
      ]
    },
    {
      "cell_type": "code",
      "execution_count": null,
      "metadata": {
        "colab": {
          "base_uri": "https://localhost:8080/",
          "height": 452
        },
        "id": "LqT02_aa8Qgh",
        "outputId": "ce8841b8-ba40-46d2-fd23-7e1e138dbf05"
      },
      "outputs": [
        {
          "data": {
            "image/png": "[encoded data removed]",
            "text/plain": [
              "<Figure size 640x480 with 1 Axes>"
            ]
          },
          "metadata": {},
          "output_type": "display_data"
        }
      ],
      "source": [
        "plt.plot(perplexity, 'o:r')\n",
        "plt.title(\"Perplexity\")\n",
        "plt.show()"
      ]
    },
    {
      "cell_type": "code",
      "execution_count": null,
      "metadata": {
        "id": "--k4Stq3cUsk"
      },
      "outputs": [],
      "source": [
        "def Predict(model, input_sequence, max_length=dataset.de_len, SOS_token=dataset.de_word2idx[\"<SOS>\"], EOS_token=dataset.de_word2idx[\"<EOS>\"]):\n",
        "  model.eval()\n",
        "  y_input = torch.tensor([[SOS_token]], dtype=torch.long, device=device)\n",
        "  num_tokens = len(input_sequence[0])\n",
        "\n",
        "  for _ in range(max_length):\n",
        "    with torch.no_grad():\n",
        "      pred = model(input_sequence, y_input)\n",
        "\n",
        "    next_item = pred.topk(1)[1].view(-1)[-1].item()\n",
        "    next_item = torch.tensor([[next_item]], device=device)\n",
        "\n",
        "    y_input = torch.cat((y_input, next_item), dim=1)\n",
        "\n",
        "    if next_item.view(-1).item() == EOS_token:\n",
        "      break\n",
        "\n",
        "  y_input = y_input.view(-1).tolist()\n",
        "  sentence = [dataset.de_idx2word[id] for id in y_input]\n",
        "  return sentence"
      ]
    },
    {
      "cell_type": "code",
      "execution_count": null,
      "metadata": {
        "id": "jMtSSEHJEqK3"
      },
      "outputs": [],
      "source": [
        "from nltk.translate.bleu_score import sentence_bleu"
      ]
    },
    {
      "cell_type": "code",
      "execution_count": null,
      "metadata": {
        "id": "LCO4xJGqEu0I"
      },
      "outputs": [],
      "source": [
        "def CalcBELU(model, dataset):\n",
        "  belu_score = 0\n",
        "  for n in range(1,9):\n",
        "    true_translation = []\n",
        "    (en,de) = dataset[-n]\n",
        "    en = en.resize_(1, en.size(0)).to(device)\n",
        "    pred_translation = Predict(model, en)\n",
        "    for id in de:\n",
        "      if id != dataset.de_word2idx['<PAD>']:\n",
        "        true_translation.append(dataset.de_idx2word[int(id)])\n",
        "    belu_score += float(sentence_bleu([pred_translation], true_translation))\n",
        "  return belu_score/8"
      ]
    },
    {
      "cell_type": "code",
      "execution_count": null,
      "metadata": {
        "colab": {
          "base_uri": "https://localhost:8080/"
        },
        "id": "6_WfD88AE84F",
        "outputId": "ff2f0bde-0169-4120-f853-aac49e9435fe"
      },
      "outputs": [
        {
          "name": "stdout",
          "output_type": "stream",
          "text": [
            "Obtained BELU Score :  38.795851260454526\n"
          ]
        }
      ],
      "source": [
        "print(\"Obtained BELU Score : \", CalcBELU(model, dataset)*100)"
      ]
    },
    {
      "cell_type": "code",
      "execution_count": null,
      "metadata": {
        "colab": {
          "base_uri": "https://localhost:8080/"
        },
        "id": "RN53sLjZh-aP",
        "outputId": "c521834e-ae66-45b9-dad1-5b4dcaec8346"
      },
      "outputs": [
        {
          "name": "stdout",
          "output_type": "stream",
          "text": [
            "Enter A Text : \n"
          ]
        }
      ],
      "source": [
        "txt = input(\"Enter A Text : \")\n",
        "txt = en_tokenizer(txt.lower().strip())\n",
        "for i in range(len(txt)):\n",
        "  if txt[i] in dataset.en_vocab:\n",
        "    txt[i] = dataset.en_word2idx[txt[i]]\n",
        "  else:\n",
        "    txt[i] = dataset.en_word2idx['<UNK>']\n",
        "txt = torch.tensor(txt)\n",
        "txt.resize_(1, len(txt))\n",
        "txt = txt.to(device)\n",
        "german = Predict(model, txt)\n",
        "print(german)"
      ]
    }
  ],
  "metadata": {
    "accelerator": "GPU",
    "colab": {
      "gpuType": "T4",
      "provenance": []
    },
    "kernelspec": {
      "display_name": "Python 3",
      "name": "python3"
    },
    "language_info": {
      "name": "python"
    }
  },
  "nbformat": 4,
  "nbformat_minor": 0
}
